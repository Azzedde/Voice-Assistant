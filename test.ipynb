{
 "cells": [
  {
   "cell_type": "code",
   "execution_count": 14,
   "metadata": {},
   "outputs": [],
   "source": [
    "import speech_recognition as sr\n",
    "import os\n",
    "import pyttsx3 \n",
    "import pyaudio"
   ]
  },
  {
   "cell_type": "code",
   "execution_count": 23,
   "metadata": {},
   "outputs": [],
   "source": [
    "r = sr.Recognizer()\n",
    "\n",
    "def speak(text):\n",
    "    engine = pyttsx3.init()\n",
    "    engine.say(text)\n",
    "    engine.runAndWait()\n"
   ]
  },
  {
   "cell_type": "code",
   "execution_count": 3,
   "metadata": {},
   "outputs": [
    {
     "name": "stdout",
     "output_type": "stream",
     "text": [
      "Calibrating microphone...\n",
      "Say something!\n",
      "Done!\n",
      "You have said: Aloha salon\n"
     ]
    }
   ],
   "source": [
    "with sr.Microphone() as source:\n",
    "    print('Calibrating microphone...')\n",
    "    r.adjust_for_ambient_noise(source, duration=5)\n",
    "    print('Say something!')\n",
    "    audio = r.listen(source)\n",
    "    print('Done!')\n",
    "\n",
    "text = r.recognize_google(audio)\n",
    "print('You have said:',text)\n"
   ]
  },
  {
   "cell_type": "code",
   "execution_count": 4,
   "metadata": {},
   "outputs": [
    {
     "name": "stdout",
     "output_type": "stream",
     "text": [
      "There are 40 calendars\n"
     ]
    }
   ],
   "source": [
    "import requests\n",
    "from bs4 import BeautifulSoup\n",
    "\n",
    "# Fetch the content of the website\n",
    "url = 'https://www.esi.dz/edt.html'\n",
    "response = requests.get(url)\n",
    "html_content = response.content\n",
    "\n",
    "# Use BeautifulSoup to parse the HTML content\n",
    "soup = BeautifulSoup(html_content, 'html.parser')\n",
    "\n",
    "# find all the calendars that starts with url https://calendar.google.com/calendar/embed and save them into a list \n",
    "calendar_frames = soup.find_all('iframe', src=lambda value: value and value.startswith(\"https://calendar.google.com/calendar/embed\"))\n",
    "\n",
    "print('There are', len(calendar_frames), 'calendars')\n"
   ]
  },
  {
   "cell_type": "code",
   "execution_count": 10,
   "metadata": {},
   "outputs": [
    {
     "name": "stdout",
     "output_type": "stream",
     "text": [
      "calendar ID: https://calendar.google.com/calendar/embed?title=1CP1&mode=WEEK&height=600&wkst=1&bgcolor=%23FFFFFF&src=esi.dz_5bglie4s9c41n53h21j61l4cvc%40group.calendar.google.com&color=%238D6F47&src=esi.dz_40qls3r4sr1ef7ulsn12p00esc%40group.calendar.google.com&color=%238D6F47&ctz=Africa%2FAlgiers\n"
     ]
    }
   ],
   "source": [
    "# get the calendar ID of the first calendar\n",
    "print('calendar ID:', calendar_frames[0]['src'])\n"
   ]
  },
  {
   "cell_type": "code",
   "execution_count": 36,
   "metadata": {},
   "outputs": [
    {
     "name": "stdout",
     "output_type": "stream",
     "text": [
      "No upcoming events found.\n"
     ]
    }
   ],
   "source": [
    "from google.oauth2 import service_account\n",
    "from googleapiclient.discovery import build\n",
    "\n",
    "SERVICE_ACCOUNT_FILE = 'soai-voice-assistant.json'\n",
    "CALENDAR_ID = calendar_frames[0]['src']\n",
    "API_NAME = 'calendar'\n",
    "API_VERSION = 'v3'\n",
    "\n",
    "creds = service_account.Credentials.from_service_account_file(\n",
    "    SERVICE_ACCOUNT_FILE, scopes=['https://www.googleapis.com/auth/calendar'])\n",
    "service = build(API_NAME, API_VERSION, credentials=creds)\n",
    "# Call the Calendar API to get the next 10 events\n",
    "now = datetime.datetime.utcnow().isoformat() + 'Z'  # 'Z' indicates UTC time\n",
    "events_result = service.events().list(calendarId='primary', timeMin=now,\n",
    "                                      maxResults=10, singleEvents=True,\n",
    "                                      orderBy='startTime').execute()\n",
    "events = events_result.get('items', [])\n",
    "\n",
    "# Print the start and name of the next 10 events\n",
    "if not events:\n",
    "    print('No upcoming events found.')\n",
    "for event in events:\n",
    "    start = event['start'].get('dateTime', event['start'].get('date'))\n",
    "    print(start, event['summary'])\n",
    "\n",
    "\n",
    "\n"
   ]
  },
  {
   "cell_type": "code",
   "execution_count": 17,
   "metadata": {},
   "outputs": [
    {
     "name": "stdout",
     "output_type": "stream",
     "text": [
      "https://calendar.google.com/calendar/embed?title=1CP1&mode=WEEK&height=600&wkst=1&bgcolor=%23FFFFFF&src=esi.dz_5bglie4s9c41n53h21j61l4cvc%40group.calendar.google.com&color=%238D6F47&src=esi.dz_40qls3r4sr1ef7ulsn12p00esc%40group.calendar.google.com&color=%238D6F47&ctz=Africa%2FAlgiers\n"
     ]
    }
   ],
   "source": [
    "print(CALENDAR_ID)"
   ]
  },
  {
   "cell_type": "code",
   "execution_count": 65,
   "metadata": {},
   "outputs": [
    {
     "name": "stdout",
     "output_type": "stream",
     "text": [
      "calendar IDs: [['esi.dz_5bglie4s9c41n53h21j61l4cvc%40group.calendar.google.com', 'esi.dz_40qls3r4sr1ef7ulsn12p00esc%40group.calendar.google.com'], ['esi.dz_5bglie4s9c41n53h21j61l4cvc%40group.calendar.google.com', 'esi.dz_pen4ncqj7vghbiap9uj7elb2e0%40group.calendar.google.com'], ['esi.dz_5bglie4s9c41n53h21j61l4cvc%40group.calendar.google.com', 'esi.dz_suo51ti242sddngfqhe08iepm0%40group.calendar.google.com'], ['ZXNpLmR6X2RzNDR1bWF2ZzEyanI1N2dndTJrdnUzZm80QGdyb3VwLmNhbGVuZGFyLmdvb2dsZS5jb20', 'ZXNpLmR6X3NycTgxN2Zjdm4wdGY1OWthb2pkZXJoZ3JzQGdyb3VwLmNhbGVuZGFyLmdvb2dsZS5jb20'], ['esi.dz_ds44umavg12jr57ggu2kvu3fo4%40group.calendar.google.com', 'esi.dz_9i6kqgrdt3acvok0h23vj54mmo%40group.calendar.google.com'], ['esi.dz_ds44umavg12jr57ggu2kvu3fo4%40group.calendar.google.com', 'esi.dz_gm3e156rl98ouhudc7hmpl7n38%40group.calendar.google.com'], ['ZXNpLmR6X2JtaDRjbjBlaXBqNHJlOTRwYmxrM211cW1vQGdyb3VwLmNhbGVuZGFyLmdvb2dsZS5jb20', 'ZXNpLmR6X2tpM29udDRuM242bGtvcmo4MWhkN2NzN2gwQGdyb3VwLmNhbGVuZGFyLmdvb2dsZS5jb20'], ['ZXNpLmR6X2JtaDRjbjBlaXBqNHJlOTRwYmxrM211cW1vQGdyb3VwLmNhbGVuZGFyLmdvb2dsZS5jb20', 'ZXNpLmR6X2FqaDM2dm9rdHU2YTI4NHRqMDFqMWhqbG5nQGdyb3VwLmNhbGVuZGFyLmdvb2dsZS5jb20'], ['ZXNpLmR6X2JtaDRjbjBlaXBqNHJlOTRwYmxrM211cW1vQGdyb3VwLmNhbGVuZGFyLmdvb2dsZS5jb20', 'ZXNpLmR6XzZrYzYxMGNncGNrZHBpYzZvYnA3M3JsNGkwQGdyb3VwLmNhbGVuZGFyLmdvb2dsZS5jb20'], ['Y19uNnE1dTR1cWp2MnJ1bGd1cXJ2dnI5czBnb0Bncm91cC5jYWxlbmRhci5nb29nbGUuY29t', 'ZXNpLmR6XzU1dDlzOHRidmFjY2NyOXZqaTM2ZHMwMmI0QGdyb3VwLmNhbGVuZGFyLmdvb2dsZS5jb20'], ['Y19uNnE1dTR1cWp2MnJ1bGd1cXJ2dnI5czBnb0Bncm91cC5jYWxlbmRhci5nb29nbGUuY29t', 'ZXNpLmR6X2ZrM3E3cTJpMDlsbG9sOXVtdW52cnZrc2E0QGdyb3VwLmNhbGVuZGFyLmdvb2dsZS5jb20'], ['Y19uNnE1dTR1cWp2MnJ1bGd1cXJ2dnI5czBnb0Bncm91cC5jYWxlbmRhci5nb29nbGUuY29t', 'ZXNpLmR6XzN0b2syYnZhcWRnYzYzaXZwMDkzNnI2NzNrQGdyb3VwLmNhbGVuZGFyLmdvb2dsZS5jb20'], ['esi.dz_1ak7f1i5ck5stp9ffrqhacksi4%40group.calendar.google.com', 'esi.dz_vho314q04umhpgk0a1mlmd4lq8%40group.calendar.google.com'], ['esi.dz_1ak7f1i5ck5stp9ffrqhacksi4%40group.calendar.google.com', 'esi.dz_fmdkbrfi0k0ta8vvbv3m1ggd04%40group.calendar.google.com'], ['esi.dz_1ak7f1i5ck5stp9ffrqhacksi4%40group.calendar.google.com', 'esi.dz_7nkdki6hpqv1l7880cmpe3qj14%40group.calendar.google.com'], ['esi.dz_amhtsd61q76v05s98b61cooo4g%40group.calendar.google.com', 'esi.dz_ca9mpv1ke2295rlt7divndp7r0%40group.calendar.google.com'], ['esi.dz_amhtsd61q76v05s98b61cooo4g%40group.calendar.google.com', 'esi.dz_43c7trbcvbjc0ln2m25qnmqr3g%40group.calendar.google.com'], ['esi.dz_amhtsd61q76v05s98b61cooo4g%40group.calendar.google.com', 'esi.dz_1ppnv00uamgbhr33f04q2a7tv0%40group.calendar.google.com'], ['esi.dz_hi4t933dog03gf8ggk0tc29u5c%40group.calendar.google.com', 'esi.dz_t8g69kjdvb7rpggk1oaf8a2vd8%40group.calendar.google.com'], ['esi.dz_hi4t933dog03gf8ggk0tc29u5c%40group.calendar.google.com', 'esi.dz_54pthp799kpqnqgqmu09dfoqds%40group.calendar.google.com'], ['esi.dz_hi4t933dog03gf8ggk0tc29u5c%40group.calendar.google.com', 'esi.dz_ui7ljt51epqfe0u4k46s8b2q8o%40group.calendar.google.com'], ['esi.dz_7f4tbmk94rfv5lbhbdg1jrpog0%40group.calendar.google.com', 'esi.dz_m1oq7tuio8u9419e6u4jepvmh8%40group.calendar.google.com'], ['esi.dz_7f4tbmk94rfv5lbhbdg1jrpog0%40group.calendar.google.com', 'esi.dz_r3gts6445o7f1ao792sf67gels%40group.calendar.google.com'], ['esi.dz_7f4tbmk94rfv5lbhbdg1jrpog0%40group.calendar.google.com', 'esi.dz_93ra1snc9bdhbnm28jdsrpo4bg%40group.calendar.google.com'], ['ZXNpLmR6X2U4czR2cmlyajBrNzlrZTFuNDhrZ3AyYzBjQGdyb3VwLmNhbGVuZGFyLmdvb2dsZS5jb20', 'ZXNpLmR6X250NnBvc3QybGg0NmVnaWJ1cmQyOWR0cjljQGdyb3VwLmNhbGVuZGFyLmdvb2dsZS5jb20'], ['ZXNpLmR6X2U4czR2cmlyajBrNzlrZTFuNDhrZ3AyYzBjQGdyb3VwLmNhbGVuZGFyLmdvb2dsZS5jb20', 'ZXNpLmR6X3E1c3FidTRkMTdsNXBmcWJuZ25tNG4ybTdvQGdyb3VwLmNhbGVuZGFyLmdvb2dsZS5jb20'], ['ZXNpLmR6X2U4czR2cmlyajBrNzlrZTFuNDhrZ3AyYzBjQGdyb3VwLmNhbGVuZGFyLmdvb2dsZS5jb20', 'ZXNpLmR6X3Z2b2IwMzhkbW4yM28waDg4YWRmYml2bzhjQGdyb3VwLmNhbGVuZGFyLmdvb2dsZS5jb20'], ['Y19hbjZrb29vYmE0NDhvaGpwdWZpcDVnMTBza0Bncm91cC5jYWxlbmRhci5nb29nbGUuY29t', 'ZXNpLmR6Xzloa21ucTFkYjIyNHZuMGpkdXFrdjA4MWdnQGdyb3VwLmNhbGVuZGFyLmdvb2dsZS5jb20'], ['ZXNpLmR6XzUxNWE3N2o0M21rcGNlaWVoYWpkZjViYXRjQGdyb3VwLmNhbGVuZGFyLmdvb2dsZS5jb20', 'Y19hbjZrb29vYmE0NDhvaGpwdWZpcDVnMTBza0Bncm91cC5jYWxlbmRhci5nb29nbGUuY29t'], ['ZXNpLmR6X3Rlc2xubW9raDF0Y3YwZmFkY3M1N211bDIwQGdyb3VwLmNhbGVuZGFyLmdvb2dsZS5jb20', 'Y19hbjZrb29vYmE0NDhvaGpwdWZpcDVnMTBza0Bncm91cC5jYWxlbmRhci5nb29nbGUuY29t'], ['esi.dz_e5qmupbrpn3f83nh0be0nth0s4%40group.calendar.google.com', 'esi.dz_51jmqgmnc7f2nuobt3n2jna5hc%40group.calendar.google.com'], ['esi.dz_e5qmupbrpn3f83nh0be0nth0s4%40group.calendar.google.com', 'esi.dz_gki4pr57dhg5ulnnmtkr37432o%40group.calendar.google.com'], ['esi.dz_sp8n1re3q19nfl6m8h6fldbamk%40group.calendar.google.com', 'esi.dz_6in0jifhqh1n9l1vjp121lms48%40group.calendar.google.com'], ['esi.dz_sp8n1re3q19nfl6m8h6fldbamk%40group.calendar.google.com', 'esi.dz_tuh8hq7vmo56j98en5bq5d13g8%40group.calendar.google.com'], ['esi.dz_sp8n1re3q19nfl6m8h6fldbamk%40group.calendar.google.com', 'esi.dz_iqi6kh9ml9cbhb6dj4apk4j3a4%40group.calendar.google.com'], ['esi.dz_ih3qnsqa7j2qb81ndj5ltk2j0g%40group.calendar.google.com', 'esi.dz_o8he3vb8v11vtqmd88oa6k9k8k%40group.calendar.google.com'], ['esi.dz_ih3qnsqa7j2qb81ndj5ltk2j0g%40group.calendar.google.com', 'esi.dz_840jkkmeriquj61t54gdqugeo4%40group.calendar.google.com'], ['esi.dz_ih3qnsqa7j2qb81ndj5ltk2j0g%40group.calendar.google.com', 'esi.dz_0suv62qkqlh3sk5ds89s2jrjtg%40group.calendar.google.com'], ['esi.dz_ih3qnsqa7j2qb81ndj5ltk2j0g%40group.calendar.google.com', 'esi.dz_d26b0obfrt3scsc8fdfsa6ovc4%40group.calendar.google.com'], ['Y19oOW91dmEzaGUxcm4yOGE3YTk4cTU4b2E4c0Bncm91cC5jYWxlbmRhci5nb29nbGUuY29t', 'Y19mb2wxNjN1dnBrcnBpM2w1ZXRqa3BucGZoZ0Bncm91cC5jYWxlbmRhci5nb29nbGUuY29t']]\n"
     ]
    }
   ],
   "source": [
    "print('calendar IDs:', calendar_ids)"
   ]
  },
  {
   "cell_type": "code",
   "execution_count": 84,
   "metadata": {},
   "outputs": [],
   "source": [
    "cp1 = ['esi.dz_5bglie4s9c41n53h21j61l4cvc@group.calendar.google.com','esi.dz_40qls3r4sr1ef7ulsn12p00esc@group.calendar.google.com','esi.dz_pen4ncqj7vghbiap9uj7elb2e0@group.calendar.google.com','esi.dz_suo51ti242sddngfqhe08iepm0@group.calendar.google.com','esi.dz_srq817fcvn0tf59kaojderhgrs@group.calendar.google.com','esi.dz_9i6kqgrdt3acvok0h23vj54mmo@group.calendar.google.com','esi.dz_gm3e156rl98ouhudc7hmpl7n38@group.calendar.google.com','esi.dz_ki3ont4n3n6lkorj81hd7cs7h0@group.calendar.google.com','esi.dz_ajh36voktu6a284tj01j1hjlng@group.calendar.google.com','esi.dz_6kc610cgpckdpic6obp73rl4i0@group.calendar.google.com','esi.dz_55t9s8tbvacccr9vji36ds02b4@group.calendar.google.com','esi.dz_fk3q7q2i09llol9umunvrvksa4@group.calendar.google.com','esi.dz_3tok2bvaqdgc63ivp0936r673k@group.calendar.google.com']\n"
   ]
  },
  {
   "cell_type": "code",
   "execution_count": 89,
   "metadata": {},
   "outputs": [],
   "source": [
    "cp2 = ['esi.dz_1ak7f1i5ck5stp9ffrqhacksi4@group.calendar.google.com','esi.dz_vho314q04umhpgk0a1mlmd4lq8@group.calendar.google.com','esi.dz_fmdkbrfi0k0ta8vvbv3m1ggd04@group.calendar.google.com','esi.dz_7nkdki6hpqv1l7880cmpe3qj14@group.calendar.google.com','esi.dz_ca9mpv1ke2295rlt7divndp7r0@group.calendar.google.com','esi.dz_43c7trbcvbjc0ln2m25qnmqr3g@group.calendar.google.com','esi.dz_1ppnv00uamgbhr33f04q2a7tv0@group.calendar.google.com','esi.dz_t8g69kjdvb7rpggk1oaf8a2vd8@group.calendar.google.com','esi.dz_54pthp799kpqnqgqmu09dfoqds@group.calendar.google.com','esi.dz_ui7ljt51epqfe0u4k46s8b2q8o@group.calendar.google.com']"
   ]
  },
  {
   "cell_type": "code",
   "execution_count": 91,
   "metadata": {},
   "outputs": [],
   "source": [
    "cs1 = ['esi.dz_m1oq7tuio8u9419e6u4jepvmh8@group.calendar.google.com','esi.dz_r3gts6445o7f1ao792sf67gels@group.calendar.google.com','esi.dz_93ra1snc9bdhbnm28jdsrpo4bg@group.calendar.google.com','esi.dz_e8s4vrirj0k79ke1n48kgp2c0c@group.calendar.google.com','esi.dz_nt6post2lh46egiburd29dtr9c@group.calendar.google.com','esi.dz_q5sqbu4d17l5pfqbngnm4n2m7o@group.calendar.google.com','esi.dz_vvob038dmn23o0h88adfbivo8c@group.calendar.google.com','c_an6koooba448ohjpufip5g10sk@group.calendar.google.com','esi.dz_9hkmnq1db224vn0jduqkv081gg@group.calendar.google.com','esi.dz_515a77j43mkpceiehajdf5batc@group.calendar.google.com','esi.dz_teslnmokh1tcv0fadcs57mul20@group.calendar.google.com']"
   ]
  },
  {
   "cell_type": "code",
   "execution_count": 93,
   "metadata": {},
   "outputs": [],
   "source": [
    "cs2 = ['esi.dz_e5qmupbrpn3f83nh0be0nth0s4@group.calendar.google.com','esi.dz_51jmqgmnc7f2nuobt3n2jna5hc@group.calendar.google.com','esi.dz_gki4pr57dhg5ulnnmtkr37432o@group.calendar.google.com','esi.dz_tuh8hq7vmo56j98en5bq5d13g8@group.calendar.google.com','esi.dz_ih3qnsqa7j2qb81ndj5ltk2j0g@group.calendar.google.com','esi.dz_o8he3vb8v11vtqmd88oa6k9k8k@group.calendar.google.com','esi.dz_840jkkmeriquj61t54gdqugeo4@group.calendar.google.com','c_h9ouva3he1rn28a7a98q58oa8s@group.calendar.google.com','c_fol163uvpkrpi3l5etjkpnpfhg@group.calendar.google.com','esi.dz_6in0jifhqh1n9l1vjp121lms48@group.calendar.google.com','esi.dz_sp8n1re3q19nfl6m8h6fldbamk@group.calendar.google.com']"
   ]
  },
  {
   "cell_type": "code",
   "execution_count": 127,
   "metadata": {},
   "outputs": [],
   "source": [
    "ids = ['c_n6q5u4uqjv2rulguqrvvr9s0go@group.calendar.google.com', 'esi.dz_bmh4cn0eipj4re94pblk3muqmo@group.calendar.google.com']"
   ]
  },
  {
   "cell_type": "code",
   "execution_count": 128,
   "metadata": {},
   "outputs": [
    {
     "name": "stdout",
     "output_type": "stream",
     "text": [
      "Successfully added 1CP D to calendar list.\n",
      "Successfully added 1CP C to calendar list.\n"
     ]
    }
   ],
   "source": [
    "for id in ids:\n",
    "    try:\n",
    "        calendar = service.calendarList().insert(body={'id': id}).execute()\n",
    "        print(f'Successfully added {calendar[\"summary\"]} to calendar list.')\n",
    "    except HttpError as error:\n",
    "        print(f'An error occurred: {error}')"
   ]
  },
  {
   "cell_type": "code",
   "execution_count": 43,
   "metadata": {},
   "outputs": [
    {
     "ename": "NameError",
     "evalue": "name 'service' is not defined",
     "output_type": "error",
     "traceback": [
      "\u001b[1;31m---------------------------------------------------------------------------\u001b[0m",
      "\u001b[1;31mNameError\u001b[0m                                 Traceback (most recent call last)",
      "\u001b[1;32me:\\Projects\\Voice Assistant\\test.ipynb Cell 15\u001b[0m in \u001b[0;36m2\n\u001b[0;32m      <a href='vscode-notebook-cell:/e%3A/Projects/Voice%20Assistant/test.ipynb#X33sZmlsZQ%3D%3D?line=0'>1</a>\u001b[0m \u001b[39m# get calendars list \u001b[39;00m\n\u001b[1;32m----> <a href='vscode-notebook-cell:/e%3A/Projects/Voice%20Assistant/test.ipynb#X33sZmlsZQ%3D%3D?line=1'>2</a>\u001b[0m calendars_result \u001b[39m=\u001b[39m service\u001b[39m.\u001b[39mcalendarList()\u001b[39m.\u001b[39mlist()\u001b[39m.\u001b[39mexecute()\n\u001b[0;32m      <a href='vscode-notebook-cell:/e%3A/Projects/Voice%20Assistant/test.ipynb#X33sZmlsZQ%3D%3D?line=2'>3</a>\u001b[0m calendars \u001b[39m=\u001b[39m calendars_result\u001b[39m.\u001b[39mget(\u001b[39m'\u001b[39m\u001b[39mitems\u001b[39m\u001b[39m'\u001b[39m, [])\n\u001b[0;32m      <a href='vscode-notebook-cell:/e%3A/Projects/Voice%20Assistant/test.ipynb#X33sZmlsZQ%3D%3D?line=4'>5</a>\u001b[0m \u001b[39m#get summary names of the dict calendars \u001b[39;00m\n",
      "\u001b[1;31mNameError\u001b[0m: name 'service' is not defined"
     ]
    }
   ],
   "source": [
    "# get calendars list \n",
    "calendars_result = service.calendarList().list().execute()\n",
    "calendars = calendars_result.get('items', [])\n",
    "\n",
    "#get summary names of the dict calendars \n",
    "calendars_summary = [calendar['summary'] for calendar in calendars]\n",
    "print(calendars_summary)\n"
   ]
  },
  {
   "cell_type": "code",
   "execution_count": 103,
   "metadata": {},
   "outputs": [
    {
     "name": "stdout",
     "output_type": "stream",
     "text": [
      "esi.dz_pen4ncqj7vghbiap9uj7elb2e0@group.calendar.google.com\n"
     ]
    }
   ],
   "source": [
    "# get the calendar Id of the calendar that have summary '1CP A G02'\n",
    "calendar_id = [calendar['id'] for calendar in calendars if calendar['summary'] == '1CP A G02'][0]\n",
    "print(calendar_id)"
   ]
  },
  {
   "cell_type": "code",
   "execution_count": 125,
   "metadata": {},
   "outputs": [
    {
     "name": "stdout",
     "output_type": "stream",
     "text": [
      "['TD ELEF1 MESSADI O', 'TD+TP BW KHOUANI A', 'TP ALSDD BOUDI A', 'TD ANAL2 KARA M', 'TD TEO MEZIANE F', 'TD ANAL2 KARA M', 'TP ALSDD BOUDI A', 'TD SYST2 KHELOUAT B', 'TD MECA SAHRAOUI W', 'TD ALG2 MAHIOU R']\n"
     ]
    }
   ],
   "source": [
    "import datetime\n",
    "\n",
    "#print the events of next week of the calendar_id\n",
    "now = datetime.datetime.utcnow().isoformat() + 'Z' # 'Z' indicates UTC time\n",
    "next_week = (datetime.datetime.utcnow() + datetime.timedelta(days=7)).isoformat() + 'Z'\n",
    "events_result = service.events().list(calendarId=calendar_id, timeMin=now,\n",
    "                                    timeMax=next_week, singleEvents=True,\n",
    "                                    orderBy='startTime').execute()\n",
    "events = events_result.get('items', [])\n",
    "\n",
    "#print summary of the dict events \n",
    "events_summary = [event['summary'] for event in events]\n",
    "print(events_summary)\n"
   ]
  },
  {
   "cell_type": "code",
   "execution_count": 126,
   "metadata": {},
   "outputs": [
    {
     "name": "stdout",
     "output_type": "stream",
     "text": [
      "{'kind': 'calendar#event', 'etag': '\"3352455709222000\"', 'id': '759hjndiro0mhkkifptgiqof3u_20230514T073000Z', 'status': 'confirmed', 'htmlLink': 'https://www.google.com/calendar/event?eid=NzU5aGpuZGlybzBtaGtraWZwdGdpcW9mM3VfMjAyMzA1MTRUMDczMDAwWiBlc2kuZHpfcGVuNG5jcWo3dmdoYmlhcDl1ajdlbGIyZTBAZw', 'created': '2023-02-12T18:50:53.000Z', 'updated': '2023-02-12T18:50:54.611Z', 'summary': 'TD ELEF1 MESSADI O', 'location': 'S16, DE-0-S16 (50)', 'creator': {'email': 'k_frada@esi.dz', 'displayName': 'Pers FRADA Kamel'}, 'organizer': {'email': 'esi.dz_pen4ncqj7vghbiap9uj7elb2e0@group.calendar.google.com', 'displayName': '1CP A G02', 'self': True}, 'start': {'dateTime': '2023-05-14T08:30:00+01:00', 'timeZone': 'Africa/Algiers'}, 'end': {'dateTime': '2023-05-14T10:25:00+01:00', 'timeZone': 'Africa/Algiers'}, 'recurringEventId': '759hjndiro0mhkkifptgiqof3u', 'originalStartTime': {'dateTime': '2023-05-14T08:30:00+01:00', 'timeZone': 'Africa/Algiers'}, 'iCalUID': '759hjndiro0mhkkifptgiqof3u@google.com', 'sequence': 0, 'attendees': [{'email': 'esi.dz_3534323632363339363337@resource.calendar.google.com', 'displayName': 'DE-0-S16 (50)', 'resource': True, 'responseStatus': 'accepted'}, {'email': 'o_messadi@esi.dz', 'displayName': 'Ens MESSADI Oussama', 'responseStatus': 'needsAction'}], 'hangoutLink': 'https://meet.google.com/vvd-aoip-fup', 'conferenceData': {'entryPoints': [{'entryPointType': 'video', 'uri': 'https://meet.google.com/vvd-aoip-fup', 'label': 'meet.google.com/vvd-aoip-fup'}], 'conferenceSolution': {'key': {'type': 'hangoutsMeet'}, 'name': 'Google Meet', 'iconUri': 'https://fonts.gstatic.com/s/i/productlogos/meet_2020q4/v6/web-512dp/logo_meet_2020q4_color_2x_web_512dp.png'}, 'conferenceId': 'vvd-aoip-fup'}, 'reminders': {'useDefault': True}, 'eventType': 'default'}\n"
     ]
    }
   ],
   "source": [
    "print(events[0])"
   ]
  },
  {
   "cell_type": "code",
   "execution_count": 2,
   "metadata": {},
   "outputs": [],
   "source": [
    "import spacy\n",
    "\n",
    "nlp = spacy.load(\"en_core_web_sm\")"
   ]
  },
  {
   "cell_type": "code",
   "execution_count": 24,
   "metadata": {},
   "outputs": [
    {
     "name": "stdout",
     "output_type": "stream",
     "text": [
      "Calibrating microphone...\n",
      "Say something!\n",
      "Done!\n",
      "You have said: I am a fourth-year student and my group number is 7\n"
     ]
    }
   ],
   "source": [
    "with sr.Microphone() as source:\n",
    "    print('Calibrating microphone...')\n",
    "    r.adjust_for_ambient_noise(source, duration=5)\n",
    "    print('Say something!')\n",
    "    audio = r.listen(source)\n",
    "    print('Done!')\n",
    "\n",
    "text = r.recognize_google(audio)\n",
    "print('You have said:',text)"
   ]
  },
  {
   "cell_type": "code",
   "execution_count": 39,
   "metadata": {},
   "outputs": [],
   "source": [
    "def process_year_group(nlp,text):\n",
    "\tdoc = nlp(text)\n",
    "\tresult = []\n",
    "\tfor token in doc:\n",
    "\t\tprint(token.text, token.pos_, token.dep_)\n",
    "\t\tif token.dep_ == 'amod':\n",
    "\t\t\tif token.text == 'first':\n",
    "\t\t\t\tresult.append('1CP')\n",
    "\n",
    "\t\t\telif token.text == 'second':\n",
    "\t\t\t\tresult.append('2CP')\n",
    "\t\t\telif token.text == 'third':\n",
    "\t\t\t\tresult.append('1CS')\n",
    "\t\t\telif token.text == 'fourth':\n",
    "\t\t\t\tif 'data science' in doc.text:\n",
    "\t\t\t\t\tresult.append('2SD')\n",
    "\t\t\t\tif 'computer systems' in doc.text:\n",
    "\t\t\t\t\tresult.append('2SQ')\n",
    "\t\t\t\tif 'software engineering' in doc.text:\n",
    "\t\t\t\t\tresult.append('2SL')\n",
    "\t\t\t\tif 'information systems' in doc.text:\n",
    "\t\t\t\t\tresult.append('2SD')\n",
    "\t\tif token.pos_ == 'NUM':\n",
    "\t\t\tif int(token.text) >= 1 or int(token.text) < 4:\n",
    "\t\t\t\tresult.append('A')\n",
    "\t\t\t\tresult.append('G0'+str(token.text))\n",
    "\t\t\telif int(token.text) >= 4 or int(token.text) < 7:\n",
    "\t\t\t\tresult.append('B')\n",
    "\t\t\t\tresult.append('G0'+str(token.text))\n",
    "\t\t\telif int(token.text) >= 7 or int(token.text) < 10:\n",
    "\t\t\t\tresult.append('C')\n",
    "\t\t\t\tresult.append('G0'+str(token))\n",
    "\t\t\telif int(token.text) >= 10 or int(token.text) < 13:\n",
    "\t\t\t\tresult.append('D')\n",
    "\t\t\t\tresult.append('G0'+str(token.text))\n",
    "\treturn result"
   ]
  },
  {
   "cell_type": "code",
   "execution_count": 40,
   "metadata": {},
   "outputs": [
    {
     "name": "stdout",
     "output_type": "stream",
     "text": [
      "I PRON nsubj\n",
      "am AUX ROOT\n",
      "in ADP prep\n",
      "the DET det\n",
      "first ADJ amod\n",
      "['1CP']\n",
      "year NOUN pobj\n",
      "of ADP prep\n",
      "computer NOUN compound\n",
      "science NOUN pobj\n",
      "and CCONJ cc\n",
      "my PRON poss\n",
      "group NOUN compound\n",
      "number NOUN nsubj\n",
      "is AUX conj\n",
      "7 NUM attr\n",
      "['1CP', 'A', 'G07']\n"
     ]
    }
   ],
   "source": [
    "text = 'I am in the first year of computer science and my group number is 7'\n",
    "result = process_year_group(nlp,text)\n",
    "print(result)\n",
    "\n",
    "\n"
   ]
  },
  {
   "cell_type": "code",
   "execution_count": 41,
   "metadata": {},
   "outputs": [
    {
     "name": "stdout",
     "output_type": "stream",
     "text": [
      "index-> 0 -- Microsoft Hortense Desktop - French\n",
      "index-> 1 -- Microsoft Zira Desktop - English (United States)\n"
     ]
    }
   ],
   "source": [
    "import pyttsx3\n",
    "engine = pyttsx3.init()\n",
    "voices = engine.getProperty('voices')\n",
    "index = 0\n",
    "for voice in voices:\n",
    "   print(f'index-> {index} -- {voice.name}')\n",
    "   index +=1"
   ]
  },
  {
   "cell_type": "code",
   "execution_count": 42,
   "metadata": {},
   "outputs": [],
   "source": [
    "engine = pyttsx3.init()\n",
    "voices = engine.getProperty('voices')\n",
    "engine.setProperty('voice', voices[1].id)\n",
    "engine.say('Hello World')\n",
    "engine.runAndWait()"
   ]
  }
 ],
 "metadata": {
  "kernelspec": {
   "display_name": "Python 3",
   "language": "python",
   "name": "python3"
  },
  "language_info": {
   "name": "python",
   "version": "3.9.7"
  },
  "orig_nbformat": 4
 },
 "nbformat": 4,
 "nbformat_minor": 2
}
